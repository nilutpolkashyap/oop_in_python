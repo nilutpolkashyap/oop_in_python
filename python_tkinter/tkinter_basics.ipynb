{
 "cells": [
  {
   "cell_type": "code",
   "execution_count": 13,
   "metadata": {},
   "outputs": [],
   "source": [
    "import tkinter as tk\n",
    "import cv2\n",
    "import numpy as np"
   ]
  },
  {
   "cell_type": "code",
   "execution_count": 24,
   "metadata": {},
   "outputs": [],
   "source": [
    "s = tk.Tk()\n",
    "s.title('GUI screen')\n",
    "button = tk.Button(s, text='Click here!', width=50, height=2, command = s.destroy)\n",
    "button.pack()\n",
    "\n",
    "s.mainloop()"
   ]
  },
  {
   "cell_type": "code",
   "execution_count": 26,
   "metadata": {},
   "outputs": [],
   "source": [
    "from tkinter import *\n",
    "\n",
    "# Create Object\n",
    "root = Tk()\n",
    "  \n",
    "# Add Title\n",
    "root.title('On/Off Switch!')\n",
    "  \n",
    "# Add Geometry\n",
    "root.geometry(\"500x300\")\n",
    "  \n",
    "# Keep track of the button state on/off\n",
    "#global is_on\n",
    "is_on = True\n",
    "  \n",
    "# Create Label\n",
    "my_label = Label(root, \n",
    "    text = \"The Switch Is On!\", \n",
    "    fg = \"green\", \n",
    "    font = (\"Helvetica\", 32))\n",
    "  \n",
    "my_label.pack(pady = 20)\n",
    "  \n",
    "# Define our switch function\n",
    "def switch():\n",
    "    global is_on\n",
    "      \n",
    "    # Determin is on or off\n",
    "    if is_on:\n",
    "        on_button.config(image = off)\n",
    "        my_label.config(text = \"The Switch is Off\", \n",
    "                        fg = \"grey\")\n",
    "        is_on = False\n",
    "    else:\n",
    "        \n",
    "        on_button.config(image = on)\n",
    "        my_label.config(text = \"The Switch is On\", fg = \"green\")\n",
    "        is_on = True\n",
    "  \n",
    "# Define Our Images\n",
    "on = PhotoImage(file = \"on.png\")\n",
    "off = PhotoImage(file = \"off.png\")\n",
    "  \n",
    "# Create A Button\n",
    "on_button = Button(root, image = on, bd = 0,\n",
    "                   command = switch)\n",
    "on_button.pack(pady = 50)\n",
    "  \n",
    "# Execute Tkinter\n",
    "root.mainloop()"
   ]
  },
  {
   "cell_type": "code",
   "execution_count": 30,
   "metadata": {},
   "outputs": [],
   "source": [
    "from tkinter import *\n",
    "from tkinter import messagebox\n",
    "\n",
    "tkWindow = Tk()  \n",
    "tkWindow.geometry('400x150')  \n",
    "tkWindow.title('PythonExamples.org - Tkinter Example')\n",
    "\n",
    "def showMsg():  \n",
    "    messagebox.showinfo('Message', 'You clicked the Submit button!')\n",
    "    \n",
    "\n",
    "\n",
    "button = Button(tkWindow, text = 'Submit', command = showMsg)  \n",
    "button.pack()  \n",
    "\n",
    "  \n",
    "tkWindow.mainloop()"
   ]
  },
  {
   "cell_type": "code",
   "execution_count": null,
   "metadata": {},
   "outputs": [],
   "source": [
    "y = \"\""
   ]
  }
 ],
 "metadata": {
  "kernelspec": {
   "display_name": "Python 3",
   "language": "python",
   "name": "python3"
  },
  "language_info": {
   "codemirror_mode": {
    "name": "ipython",
    "version": 3
   },
   "file_extension": ".py",
   "mimetype": "text/x-python",
   "name": "python",
   "nbconvert_exporter": "python",
   "pygments_lexer": "ipython3",
   "version": "3.7.6"
  }
 },
 "nbformat": 4,
 "nbformat_minor": 4
}
